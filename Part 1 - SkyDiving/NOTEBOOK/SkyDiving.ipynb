{
 "cells": [
  {
   "cell_type": "markdown",
   "id": "7970bab0",
   "metadata": {},
   "source": [
    "# __SKY DIVING MODEL__"
   ]
  },
  {
   "cell_type": "code",
   "execution_count": 1,
   "id": "a5b4d941",
   "metadata": {},
   "outputs": [],
   "source": [
    "import numpy as np\n",
    "from numpy import sqrt\n",
    "import matplotlib.pyplot as plt\n",
    "import seaborn as sns\n",
    "from scipy.integrate import odeint"
   ]
  },
  {
   "cell_type": "code",
   "execution_count": null,
   "id": "f1d5eed2",
   "metadata": {},
   "outputs": [],
   "source": []
  },
  {
   "cell_type": "code",
   "execution_count": 2,
   "id": "9de3eaa1",
   "metadata": {},
   "outputs": [],
   "source": [
    "sns.set_theme(\n",
    "    context='notebook',\n",
    "    style='whitegrid',\n",
    "    palette='bright')"
   ]
  },
  {
   "cell_type": "markdown",
   "id": "cd3b94e2",
   "metadata": {},
   "source": [
    "### __Differantial Equation of Free Falling with Air Resistance__:"
   ]
  },
  {
   "cell_type": "markdown",
   "id": "46925892",
   "metadata": {},
   "source": [
    "$$ F_N - F_{\\text{air}} = ma $$\n",
    "\n",
    "$$ mg - \\frac{1}{2} p A C_D v^2 = ma$$\n",
    "\n",
    "$$ mg - \\frac{1}{2} p A C_D v^2 = m \\frac{\\Delta v}{\\Delta t}$$\n",
    "\n",
    "$$ g - \\frac{p A C_D v^2}{2m}  =  \\frac{\\Delta v}{\\Delta t}$$\n",
    "\n",
    "$$ \\frac{\\Delta v}{\\Delta t}  = g - \\frac{p A C_D v^2}{2m} $$"
   ]
  },
  {
   "cell_type": "markdown",
   "id": "7aa58c95",
   "metadata": {},
   "source": [
    "### __Terminal Velocity Condition:__"
   ]
  },
  {
   "cell_type": "markdown",
   "id": "cd2cdde3",
   "metadata": {},
   "source": [
    "$$ F_{\\text{air}} = F_N $$\n",
    "\n",
    "$$ mg = \\frac{1}{2} p A C_D v^2 $$\n",
    "\n"
   ]
  },
  {
   "cell_type": "markdown",
   "id": "e642e26f",
   "metadata": {},
   "source": [
    "### __Defining Terminal-Velocity Function__:"
   ]
  },
  {
   "cell_type": "code",
   "execution_count": 3,
   "id": "325ea527",
   "metadata": {},
   "outputs": [],
   "source": [
    "def calculate_terminal_velocity(m, g, C_D, p, A) -> float:\n",
    "    terminal_velocity: float = sqrt(\n",
    "        (2 * m * g) / (p * A * C_D)\n",
    "    )\n",
    "    return terminal_velocity"
   ]
  },
  {
   "cell_type": "markdown",
   "id": "f18f81c5",
   "metadata": {},
   "source": [
    "### __Defining Model Function of Differantial Problem:__"
   ]
  },
  {
   "cell_type": "code",
   "execution_count": 4,
   "id": "59f29341",
   "metadata": {},
   "outputs": [],
   "source": [
    "def model(v, t, g, A, C_D, m, p):\n",
    "    dvdt = g - ((p * A * C_D * v**2) / (2 * m))\n",
    "    return dvdt"
   ]
  },
  {
   "cell_type": "markdown",
   "id": "2689d657",
   "metadata": {},
   "source": [
    "### __Defining Variables and Constans:__"
   ]
  },
  {
   "cell_type": "code",
   "execution_count": 5,
   "id": "a6636e88",
   "metadata": {},
   "outputs": [],
   "source": [
    "from dataclasses import dataclass, field\n",
    "from numpy import ndarray"
   ]
  },
  {
   "cell_type": "code",
   "execution_count": 6,
   "id": "2248c16a",
   "metadata": {},
   "outputs": [],
   "source": [
    "@dataclass\n",
    "class Elements:\n",
    "    \"\"\"\n",
    "    Constants & Variables of Differantial Equation \n",
    "    \"\"\"\n",
    "    m: float # mass (kg)\n",
    "    p: float # Density of air (kg/m3)\n",
    "    A: float # Area of the Object Exposed to Airflow (m2)\n",
    "    C_D: float # Drag Coefficient\n",
    "    v0: float # velocity of object (m/s)\n",
    "    g: float  # gravity (m/s2)\n",
    "    t: ndarray # time (s)\n",
    "        \n"
   ]
  },
  {
   "cell_type": "markdown",
   "id": "8eef10e3",
   "metadata": {},
   "source": [
    "__Variables and Constants:__"
   ]
  },
  {
   "cell_type": "code",
   "execution_count": 7,
   "id": "2ce27fa1",
   "metadata": {},
   "outputs": [],
   "source": [
    "test_elements: Elements = Elements(\n",
    "    m=80, \n",
    "    p=1.225, \n",
    "    A=0.75,\n",
    "    C_D=0.47, \n",
    "    v0=0, \n",
    "    g=9.81,\n",
    "    t = np.linspace(0,25,500)\n",
    ")"
   ]
  },
  {
   "cell_type": "markdown",
   "id": "6af8a9e5",
   "metadata": {},
   "source": [
    "### __Terminal Velocity of Variables:__"
   ]
  },
  {
   "cell_type": "code",
   "execution_count": 8,
   "id": "b542b66d",
   "metadata": {},
   "outputs": [],
   "source": [
    "terminal_velocity: float = calculate_terminal_velocity(m=test_elements.m,\n",
    "                            g=test_elements.g,\n",
    "                            C_D=test_elements.C_D,\n",
    "                            p=test_elements.p,\n",
    "                            A=test_elements.A)"
   ]
  },
  {
   "cell_type": "markdown",
   "id": "e0586ea4",
   "metadata": {},
   "source": [
    "### __Model Solution:__"
   ]
  },
  {
   "cell_type": "code",
   "execution_count": 9,
   "id": "77880d90",
   "metadata": {},
   "outputs": [],
   "source": [
    "solution: ndarray = odeint(model, \n",
    "                  y0=test_elements.v0, \n",
    "                  t=test_elements.t, \n",
    "                  args=(test_elements.g, \n",
    "                        test_elements.A, \n",
    "                        test_elements.C_D, \n",
    "                        test_elements.m, \n",
    "                        test_elements.p,))"
   ]
  },
  {
   "cell_type": "markdown",
   "id": "7103fd0c",
   "metadata": {},
   "source": [
    "### Visualization"
   ]
  },
  {
   "cell_type": "code",
   "execution_count": 10,
   "id": "cf02bb0b",
   "metadata": {},
   "outputs": [
    {
     "data": {
      "image/png": "[encoded data removed]",
      "text/plain": [
       "<Figure size 1000x600 with 1 Axes>"
      ]
     },
     "metadata": {},
     "output_type": "display_data"
    }
   ],
   "source": [
    "figure, axes = plt.subplots(figsize=(10,6))\n",
    "\n",
    "axes.plot(test_elements.t,\n",
    "         solution,\n",
    "         lw=2.5,\n",
    "         label=\"f(x)\",\n",
    "         color=\"k\",\n",
    "         alpha=0.85)\n",
    "\n",
    "axes.axhline(terminal_velocity,\n",
    "            alpha=0.25,\n",
    "            ls=\"-.\",\n",
    "            label=\"v-terminal\",\n",
    "            color=\"#FF00FF\")\n",
    "\n",
    "axes.grid(True, alpha=0.45, ls=\"-.\")\n",
    "axes.legend(loc=\"best\")\n",
    "axes.set_title(\"Free Falling with Air Friction\")\n",
    "axes.set_xlabel(\"time [s]\")\n",
    "axes.set_ylabel(\"Velocity [m/s]\")\n",
    "axes.set_ylim(-5, terminal_velocity + 5)\n",
    "sns.despine()\n",
    "plt.show()"
   ]
  },
  {
   "cell_type": "code",
   "execution_count": null,
   "id": "284cb0df",
   "metadata": {},
   "outputs": [],
   "source": []
  },
  {
   "cell_type": "code",
   "execution_count": null,
   "id": "e8fc17b0",
   "metadata": {},
   "outputs": [],
   "source": []
  }
 ],
 "metadata": {
  "kernelspec": {
   "display_name": "Python 3 (ipykernel)",
   "language": "python",
   "name": "python3"
  },
  "language_info": {
   "codemirror_mode": {
    "name": "ipython",
    "version": 3
   },
   "file_extension": ".py",
   "mimetype": "text/x-python",
   "name": "python",
   "nbconvert_exporter": "python",
   "pygments_lexer": "ipython3",
   "version": "3.10.9"
  }
 },
 "nbformat": 4,
 "nbformat_minor": 5
}
